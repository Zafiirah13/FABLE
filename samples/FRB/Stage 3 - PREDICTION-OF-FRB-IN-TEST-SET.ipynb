{
 "cells": [
  {
   "cell_type": "markdown",
   "metadata": {},
   "source": [
    "# Prediction fo FRB/SP "
   ]
  },
  {
   "cell_type": "code",
   "execution_count": 2,
   "metadata": {
    "collapsed": true
   },
   "outputs": [],
   "source": [
    "import os\n",
    "import sys\n",
    "import random\n",
    "import math\n",
    "import re\n",
    "import time\n",
    "import h5py\n",
    "import skimage\n",
    "import glob\n",
    "import cv2\n",
    "import itertools\n",
    "import colorsys\n",
    "import numpy as np\n",
    "import tensorflow as tf\n",
    "import matplotlib\n",
    "import matplotlib.pyplot as plt\n",
    "import pandas as pd\n",
    "from matplotlib import cm\n",
    "from matplotlib import patches,  lines\n",
    "from PIL import Image\n",
    "from shapely.geometry import Point, Polygon\n",
    "from imgaug import augmenters as iaa\n",
    "from scipy import ndimage\n",
    "from skimage.measure import find_contours\n",
    "from matplotlib.patches import Polygon\n",
    "\n",
    "# Root directory of the project\n",
    "ROOT_DIR = os.path.abspath(\"../../\")\n",
    "\n",
    "# Import Mask RCNN\n",
    "sys.path.append(ROOT_DIR)  # To find local version of the library\n",
    "from mrcnn import utils\n",
    "from mrcnn import visualize\n",
    "from mrcnn.visualize import display_images\n",
    "import mrcnn.model as modellib\n",
    "from mrcnn.model import log\n",
    "\n",
    "#from samples.balloon import balloon\n",
    "from samples.FRB import SP_SingleClass\n",
    "\n",
    "from sklearn.metrics import balanced_accuracy_score, confusion_matrix, classification_report, matthews_corrcoef\n",
    "\n",
    "\n",
    "%matplotlib inline \n",
    "\n",
    "# Directory to save logs and trained model\n",
    "MODEL_DIR = os.path.join(ROOT_DIR, \"logs\")\n",
    "\n"
   ]
  },
  {
   "cell_type": "markdown",
   "metadata": {},
   "source": [
    "## Configurations"
   ]
  },
  {
   "cell_type": "code",
   "execution_count": 3,
   "metadata": {
    "collapsed": true
   },
   "outputs": [],
   "source": [
    "config  = SP_SingleClass.FRBConfig()\n",
    "FRB_DIR = '/home/hosenie/Desktop/Mask_RCNN/samples/FRB/automated_mask_code/fetch_data/'\n"
   ]
  },
  {
   "cell_type": "code",
   "execution_count": 4,
   "metadata": {},
   "outputs": [
    {
     "name": "stdout",
     "output_type": "stream",
     "text": [
      "\n",
      "Configurations:\n",
      "BACKBONE                       resnet101\n",
      "BACKBONE_STRIDES               [4, 8, 16, 32, 64]\n",
      "BATCH_SIZE                     1\n",
      "BBOX_STD_DEV                   [0.1 0.1 0.2 0.2]\n",
      "COMPUTE_BACKBONE_SHAPE         None\n",
      "DETECTION_MAX_INSTANCES        100\n",
      "DETECTION_MIN_CONFIDENCE       0.5\n",
      "DETECTION_NMS_THRESHOLD        0.3\n",
      "FPN_CLASSIF_FC_LAYERS_SIZE     1024\n",
      "GPU_COUNT                      1\n",
      "GRADIENT_CLIP_NORM             5.0\n",
      "IMAGES_PER_GPU                 1\n",
      "IMAGE_CHANNEL_COUNT            3\n",
      "IMAGE_MAX_DIM                  256\n",
      "IMAGE_META_SIZE                14\n",
      "IMAGE_MIN_DIM                  256\n",
      "IMAGE_MIN_SCALE                0\n",
      "IMAGE_RESIZE_MODE              square\n",
      "IMAGE_SHAPE                    [256 256   3]\n",
      "LEARNING_MOMENTUM              0.9\n",
      "LEARNING_RATE                  0.001\n",
      "LOSS_WEIGHTS                   {'rpn_class_loss': 1.0, 'rpn_bbox_loss': 1.0, 'mrcnn_class_loss': 1.0, 'mrcnn_bbox_loss': 1.0, 'mrcnn_mask_loss': 1.0}\n",
      "MASK_POOL_SIZE                 14\n",
      "MASK_SHAPE                     [28, 28]\n",
      "MAX_GT_INSTANCES               100\n",
      "MEAN_PIXEL                     [123.7 116.8 103.9]\n",
      "MINI_MASK_SHAPE                (56, 56)\n",
      "NAME                           candidates\n",
      "NUM_CLASSES                    2\n",
      "POOL_SIZE                      7\n",
      "POST_NMS_ROIS_INFERENCE        1000\n",
      "POST_NMS_ROIS_TRAINING         2000\n",
      "PRE_NMS_LIMIT                  6000\n",
      "ROI_POSITIVE_RATIO             0.33\n",
      "RPN_ANCHOR_RATIOS              [0.5, 1, 2]\n",
      "RPN_ANCHOR_SCALES              (32, 64, 128, 256, 512)\n",
      "RPN_ANCHOR_STRIDE              1\n",
      "RPN_BBOX_STD_DEV               [0.1 0.1 0.2 0.2]\n",
      "RPN_NMS_THRESHOLD              0.7\n",
      "RPN_TRAIN_ANCHORS_PER_IMAGE    256\n",
      "STEPS_PER_EPOCH                100\n",
      "TOP_DOWN_PYRAMID_SIZE          256\n",
      "TRAIN_BN                       False\n",
      "TRAIN_ROIS_PER_IMAGE           200\n",
      "USE_MINI_MASK                  True\n",
      "USE_RPN_ROIS                   True\n",
      "VALIDATION_STEPS               50\n",
      "WEIGHT_DECAY                   0.0001\n",
      "\n",
      "\n"
     ]
    }
   ],
   "source": [
    "# Override the training configurations with a few\n",
    "# changes for inferencing.\n",
    "class InferenceConfig(config.__class__):\n",
    "    # Run detection on one image at a time\n",
    "    GPU_COUNT      = 1\n",
    "    IMAGES_PER_GPU = 1\n",
    "\n",
    "config = InferenceConfig()\n",
    "config.display()"
   ]
  },
  {
   "cell_type": "markdown",
   "metadata": {},
   "source": [
    "## Notebook Preferences"
   ]
  },
  {
   "cell_type": "code",
   "execution_count": 5,
   "metadata": {
    "collapsed": true
   },
   "outputs": [],
   "source": [
    "# Device to load the neural network on.\n",
    "# Useful if you're training a model on the same \n",
    "# machine, in which case use CPU and leave the\n",
    "# GPU for training.\n",
    "DEVICE = \"/gpu:0\" #\"/cpu:0\"  # /cpu:0 or /gpu:0\n",
    "\n",
    "# Inspect the model in training or inference modes\n",
    "# values: 'inference' or 'training'\n",
    "TEST_MODE = \"inference\""
   ]
  },
  {
   "cell_type": "markdown",
   "metadata": {},
   "source": [
    "## Load Model\n"
   ]
  },
  {
   "cell_type": "code",
   "execution_count": 7,
   "metadata": {
    "collapsed": true
   },
   "outputs": [],
   "source": [
    "# Create model in inference mode\n",
    "with tf.device(DEVICE):\n",
    "    model = modellib.MaskRCNN(mode=\"inference\", model_dir=MODEL_DIR,config=config)"
   ]
  },
  {
   "cell_type": "code",
   "execution_count": 8,
   "metadata": {},
   "outputs": [
    {
     "name": "stdout",
     "output_type": "stream",
     "text": [
      "Loading weights  /home/hosenie/Desktop/Mask_RCNN/logs/candidates20201016T1137/mask_rcnn_candidates_0120.h5\n",
      "Re-starting from epoch 120\n"
     ]
    }
   ],
   "source": [
    "# Load weights\n",
    "weights_path ='/home/hosenie/Desktop/Mask_RCNN/logs/candidates20201016T1137/mask_rcnn_candidates_0120.h5'\n",
    "print(\"Loading weights \", weights_path)\n",
    "model.load_weights(weights_path, by_name=True)"
   ]
  },
  {
   "cell_type": "markdown",
   "metadata": {},
   "source": [
    "## Load Validation Dataset"
   ]
  },
  {
   "cell_type": "code",
   "execution_count": 9,
   "metadata": {
    "collapsed": true
   },
   "outputs": [],
   "source": [
    "def get_ax(rows=1, cols=1, size=16):\n",
    "    \"\"\"Return a Matplotlib Axes array to be used in\n",
    "    all visualizations in the notebook. Provide a\n",
    "    central point to control graph sizes.\n",
    "    \n",
    "    Adjust the size attribute to control how big to render images\n",
    "    \"\"\"\n",
    "    _, ax = plt.subplots(rows, cols, figsize=(size*cols, size*rows))\n",
    "    return ax"
   ]
  },
  {
   "cell_type": "code",
   "execution_count": 10,
   "metadata": {},
   "outputs": [
    {
     "name": "stdout",
     "output_type": "stream",
     "text": [
      "cand_tstart_58146.525462999998_tcand_137.9164639_dm_1642.25428_snr_-1.00000.h5\n",
      "Images: 3357\n",
      "Classes: ['BG', 'SP']\n"
     ]
    }
   ],
   "source": [
    "# Load validation dataset\n",
    "dataset = SP_SingleClass.FRBCustomDataset()\n",
    "dataset.load_custom(FRB_DIR, \"val\")\n",
    "\n",
    "# Must call before using the dataset\n",
    "dataset.prepare()\n",
    "print(dataset.image_info[0]['id'])\n",
    "print(\"Images: {}\\nClasses: {}\".format(len(dataset.image_ids), dataset.class_names))"
   ]
  },
  {
   "cell_type": "markdown",
   "metadata": {},
   "source": [
    "## Precision recall of validation set"
   ]
  },
  {
   "cell_type": "code",
   "execution_count": 11,
   "metadata": {
    "collapsed": true
   },
   "outputs": [],
   "source": [
    "def compute_performance(dataset,model,config,iou_threshold=0.5):\n",
    "\n",
    "\n",
    "    APs = []\n",
    "    ps  = []\n",
    "    rs  = []\n",
    "    final_table = pd.DataFrame()\n",
    "\n",
    "    for image_id in dataset.image_ids:\n",
    "        \n",
    "        filename = dataset.image_info[image_id]['id']\n",
    "        \n",
    "        image, image_meta,gt_class_id,gt_bbox,gt_mask=\\\n",
    "        modellib.load_image_gt(dataset,config,image_id,use_mini_mask=False)\n",
    "        #print('ground_truth id = {}'.format(gt_class_id))\n",
    "\n",
    "        results = model.detect([image], verbose=0)\n",
    "        r      = results[0]\n",
    "        #print('Predicted ID is = {}'.format(r['class_ids']))\n",
    "        if  iou_threshold==0.5:\n",
    "            #If there are more than 1 prediction\n",
    "            if r['class_ids'].shape[0] > 1:\n",
    "                #probability   = np.max(r['scores'])\n",
    "                #class_predict = r['class_ids'][np.where(np.max(r['scores']))]\n",
    "                class_predict = r['class_ids'][np.where(r['class_ids']==1)[0]]\n",
    "                probability   = r['scores'][np.where(r['class_ids']==1)[0][0]]\n",
    "\n",
    "            else:\n",
    "                probability = r['scores']; class_predict = r['class_ids']\n",
    "\n",
    "            prediction_table = pd.DataFrame()\n",
    "            prediction_table['Image_ID']    = image_id.reshape(1,)\n",
    "            prediction_table['filename']    = filename\n",
    "            prediction_table['y_true']      = gt_class_id\n",
    "            prediction_table['y_predict']   = class_predict\n",
    "            prediction_table['probability'] = probability\n",
    "            final_table                     = final_table.append(prediction_table)\n",
    "            final_table.to_csv('./results/prediction_validation.csv',index=None)\n",
    "        \n",
    "        \n",
    "        i = np.where(r['class_ids']==gt_class_id)[0]\n",
    "        j = np.where(gt_class_id==gt_class_id)[0]\n",
    "\n",
    "\n",
    "        AP, precisions, recalls, overlaps =  utils.compute_ap(gt_bbox[j],\\\n",
    "        gt_class_id[j],gt_mask[:,:,j],r['rois'][i],r['class_ids'][i],\\\n",
    "        r['scores'][i],r['masks'][:,:,i],iou_threshold=iou_threshold)\n",
    "\n",
    "        APs.append(AP)\n",
    "        precisions = np.interp(np.linspace(0,len(precisions),50),np.arange(0,len(precisions)),precisions)\n",
    "        recalls = np.interp(np.linspace(0,len(recalls),50),np.arange(0,len(recalls)),recalls)\n",
    "        ps.append(precisions)\n",
    "        rs.append(recalls)\n",
    "\n",
    "    \n",
    "\n",
    "    print('mAPs = {}'.format(np.mean(APs)))\n",
    "    return np.mean(APs), np.mean(ps,0),np.mean(rs,0)"
   ]
  },
  {
   "cell_type": "code",
   "execution_count": 12,
   "metadata": {
    "collapsed": true
   },
   "outputs": [],
   "source": [
    "def plot_precision_recall_range(APs, iou_thresholds, precisions, recalls, save_fig=False, \n",
    "                                title=\"\",filename=\"\"):\n",
    "    \"\"\"Draw the precision-recall curve over range of IOUs.\n",
    "    precisions: list of precision values\n",
    "    recalls: list of recall values\n",
    "    \"\"\"\n",
    "    # Plot the Precision-Recall curve\n",
    "    _, ax = plt.subplots(1,figsize=(10,8))\n",
    "    #ax.set_title(\"Precision-Recall Curve\")\n",
    "    ax.set_ylabel(\"Precision\",fontsize=16)\n",
    "    ax.set_xlabel(\"Recall\",fontsize=16)\n",
    "    ax.set_title(title,fontsize=16)\n",
    "    ax.set_ylim(0, 1.1)\n",
    "    ax.set_xlim(0, 1.1)\n",
    "    ax.tick_params(axis='both',labelsize=16)\n",
    "    colors = cm.plasma(np.linspace(0,1,len(recalls)))\n",
    "    for i,r in enumerate(recalls):\n",
    "        p = precisions[i]\n",
    "        iou = iou_thresholds[i]\n",
    "        AP = APs[i]\n",
    "        _ = ax.plot(r, p, label=\"AP@{:.2f} = {:.3f}\".format(iou,AP), c=colors[i], lw=2.0)\n",
    "    # Shrink current axis by 20%\n",
    "    box = ax.get_position()\n",
    "    ax.set_position([box.x0, box.y0, box.width * 0.8, box.height])\n",
    "    # Put a legend to the right of the current axis\n",
    "    ax.legend(loc='center left', prop={'size':16},bbox_to_anchor=(1, 0.5))\n",
    "    plt.subplots_adjust(right=.7,left=0.1,top=.9,bottom=.1)\n",
    "    #np.save(\"./precision_recall_\"+title,APs)\n",
    "    if save_fig:\n",
    "        plt.savefig(\"./results/precision_recall_\"+filename+\".pdf\",bbox_inches='tight',pad_inches=0.1)"
   ]
  },
  {
   "cell_type": "code",
   "execution_count": 13,
   "metadata": {},
   "outputs": [
    {
     "name": "stdout",
     "output_type": "stream",
     "text": [
      "mAPs = 0.9988084599344653\n",
      "mAPs = 0.9973190348525469\n",
      "mAPs = 0.9961274947870122\n",
      "mAPs = 0.9919571045576407\n",
      "mAPs = 0.9874888293118856\n",
      "mAPs = 0.9791480488531427\n",
      "mAPs = 0.9574024426571344\n",
      "mAPs = 0.9136133452487339\n",
      "mAPs = 0.7125409591897528\n",
      "mAPs = 0.11945189156985403\n"
     ]
    },
    {
     "data": {
      "image/png": "[encoded data removed]",
      "text/plain": [
       "<Figure size 720x576 with 1 Axes>"
      ]
     },
     "metadata": {
      "needs_background": "light"
     },
     "output_type": "display_data"
    }
   ],
   "source": [
    "mean_APs_frb = []\n",
    "mean_ps_frb  = []\n",
    "mean_rs_frb  = []\n",
    "\n",
    "iou_thresholds = np.arange(0.5,1.0,0.05)\n",
    "\n",
    "for i in iou_thresholds:\n",
    "    \n",
    "    APs, ps, rs = compute_performance(dataset,model,config,i)\n",
    "    mean_APs_frb.append(APs)\n",
    "    mean_ps_frb.append(ps)\n",
    "    mean_rs_frb.append(rs)\n",
    "    \n",
    "plot_precision_recall_range(mean_APs_frb,iou_thresholds,mean_ps_frb,mean_rs_frb,\\\n",
    "    save_fig=True,title='SP',filename='SP_test')"
   ]
  },
  {
   "cell_type": "markdown",
   "metadata": {},
   "source": [
    "## Calculate metrics on Validation set"
   ]
  },
  {
   "cell_type": "code",
   "execution_count": 15,
   "metadata": {},
   "outputs": [
    {
     "name": "stdout",
     "output_type": "stream",
     "text": [
      "1.0\n",
      "[[3357]]\n",
      "0.0\n",
      "              precision    recall  f1-score   support\n",
      "\n",
      "           1       1.00      1.00      1.00      3357\n",
      "           2       0.00      0.00      0.00         0\n",
      "\n",
      "   micro avg       1.00      1.00      1.00      3357\n",
      "   macro avg       0.50      0.50      0.50      3357\n",
      "weighted avg       1.00      1.00      1.00      3357\n",
      "\n"
     ]
    }
   ],
   "source": [
    "prediction_file = pd.read_csv('./results/prediction_validation.csv')\n",
    "\n",
    "ytrue       = prediction_file['y_true']\n",
    "ypred       = prediction_file['y_predict']\n",
    "accuracy    = balanced_accuracy_score(ytrue,ypred)\n",
    "conf_matrix = confusion_matrix(ytrue,ypred)\n",
    "mcc         = matthews_corrcoef(ytrue,ypred)\n",
    "\n",
    "\n",
    "metrics_file = open('./results/metrics.txt','w')\n",
    "metrics_file.write('Accuracy = %f' %float(accuracy) + '\\n')\n",
    "metrics_file.write('Mathew correlation coefficient = %f' %float(mcc) + '\\n')\n",
    "metrics_file.write('='*80+'\\n')\n",
    "metrics_file.write(classification_report(ytrue,ypred,labels=[1,2]) )\n",
    "metrics_file.write('='*80+'\\n\\n')\n",
    "\n",
    "\n",
    "print(balanced_accuracy_score(ytrue,ypred))\n",
    "print(confusion_matrix(ytrue,ypred))\n",
    "print(matthews_corrcoef(ytrue,ypred))\n",
    "print(classification_report(ytrue,ypred,labels=[1,2]))"
   ]
  },
  {
   "cell_type": "markdown",
   "metadata": {},
   "source": [
    "# Prediction on test set\n",
    "### Find the brightest pixel of the candidates after prediction using the generated mask from the prediction"
   ]
  },
  {
   "cell_type": "code",
   "execution_count": 16,
   "metadata": {
    "collapsed": true
   },
   "outputs": [],
   "source": [
    "def horizontal_flip(image_array):\n",
    "    return image_array[:, ::-1]"
   ]
  },
  {
   "cell_type": "code",
   "execution_count": 17,
   "metadata": {
    "collapsed": true
   },
   "outputs": [],
   "source": [
    "# This function takes the mask obtained during prediction and crops it from the original image\n",
    "def crop_mask_from_original_im(image, mask):\n",
    "    \"\"\"Apply the given mask to the image.\n",
    "    \"\"\"\n",
    "    background = np.zeros((256,256))\n",
    "    image[:, :] = np.where(mask == 1,image[:, :],background[:,:])\n",
    "    return image"
   ]
  },
  {
   "cell_type": "code",
   "execution_count": 18,
   "metadata": {
    "collapsed": true
   },
   "outputs": [],
   "source": [
    "def apply_mask(image, mask, color, alpha=0.5):\n",
    "    \"\"\"Apply the given mask to the image.\n",
    "    \"\"\"\n",
    "    for c in range(3):\n",
    "        image[:, :, c] = np.where(mask == 1,\n",
    "                                  image[:, :, c] *\n",
    "                                  (1 - alpha) + alpha *color[c] * 255,\n",
    "                                  image[:, :, c])\n",
    "    return image"
   ]
  },
  {
   "cell_type": "code",
   "execution_count": 19,
   "metadata": {
    "collapsed": true
   },
   "outputs": [],
   "source": [
    "def random_colors(N, bright=True):\n",
    "    \"\"\"\n",
    "    Generate random colors.\n",
    "    To get visually distinct colors, generate them in HSV space then\n",
    "    convert to RGB.\n",
    "    \"\"\"\n",
    "    brightness = 1.0 if bright else 0.7\n",
    "    hsv = [(i / N, 1, brightness) for i in range(N)]\n",
    "    colors = list(map(lambda c: colorsys.hsv_to_rgb(*c), hsv))\n",
    "    random.shuffle(colors)\n",
    "    return colors"
   ]
  },
  {
   "cell_type": "code",
   "execution_count": null,
   "metadata": {
    "collapsed": true
   },
   "outputs": [],
   "source": [
    "test_dir = './automated_mask_code/fetch_data/val/*.h5' # For FRB text data\n",
    "test_files  =glob.glob(test_dir)\n",
    "#test_files = test_files[10:20]\n",
    "\n",
    "final_table = pd.DataFrame()\n",
    "for i in range(len(test_files)):\n",
    "    filename   = os.path.basename(test_files[i])\n",
    "    with h5py.File(test_files[i],'r') as f:\n",
    "        image_ = np.array(f[\"data_dm_time\"]).astype('float32')\n",
    "        true_DM= f.attrs['dm']\n",
    "        tstart = f.attrs['tstart']*10**3 # in ms\n",
    "        tsamp  = f.attrs['tsamp']*10**3 # in ms\n",
    "        nchans = f.attrs['nchans']\n",
    "        plt.imsave('./images/'+filename+'.jpg',image_,cmap=plt.cm.jet)        \n",
    "        image = skimage.io.imread('./images/'+filename+'.jpg')\n",
    "        print(image_.max())\n",
    "                \n",
    "        test_results = model.detect([image], verbose=1)\n",
    "        r            = test_results[0]\n",
    "        masks = r['masks']\n",
    "        boxes = r['rois']\n",
    "        class_ids = r['class_ids']\n",
    "        scores = r['scores']\n",
    "        class_names = dataset.class_names\n",
    "        \n",
    "        # Number of instances\n",
    "        N = boxes.shape[0]\n",
    "        if not N:\n",
    "            print(\"\\n*** No instances to display *** \\n\")\n",
    "        else:\n",
    "            assert boxes.shape[0] == masks.shape[-1] == class_ids.shape[0]\n",
    "\n",
    "        # If no axis is passed, create one and automatically call show()\n",
    "        auto_show = False; ax = None; colors=None; figsize=(15,15); show_mask=True;\n",
    "        show_bbox=True;captions=None; title=str(filename)\n",
    "        \n",
    "       # If no axis is passed, create one and automatically call show()\n",
    "        auto_show = False\n",
    "        if not ax:\n",
    "            _, ax = plt.subplots(1, figsize=figsize)\n",
    "            auto_show = True\n",
    "\n",
    "        # Generate random colors\n",
    "        colors = colors or random_colors(N)\n",
    "\n",
    "        # Show area outside image boundaries.\n",
    "        height, width = image.shape[:2]\n",
    "        ax.set_ylim(height + 10, -10)\n",
    "        ax.set_xlim(-10, width + 10)\n",
    "        ax.axis('off')\n",
    "        ax.set_title(title,fontsize=25)\n",
    "        \n",
    "        masked_image = image.astype(np.uint32).copy()\n",
    "        for i in range(N):\n",
    "            color = colors[i]\n",
    "\n",
    "            # Bounding box\n",
    "            if not np.any(boxes[i]):\n",
    "                # Skip this instance. Has no bbox. Likely lost in image cropping.\n",
    "                continue\n",
    "            y1, x1, y2, x2 = boxes[i]\n",
    "            if show_bbox:\n",
    "                p = patches.Rectangle((x1, y1), x2 - x1, y2 - y1, linewidth=2,\n",
    "                                    alpha=0.7, linestyle=\"dashed\",\n",
    "                                    edgecolor=color, facecolor='none')\n",
    "                ax.add_patch(p)\n",
    "\n",
    "            # Label\n",
    "            if not captions:\n",
    "                class_id = class_ids[i]\n",
    "                score = scores[i] if scores is not None else None\n",
    "                label = class_names[class_id]\n",
    "                caption = \"{} {:.3f}\".format(label, score) if score else label\n",
    "            else:\n",
    "                caption = captions[i]\n",
    "            ax.text(x1, y1 + 8, caption,\n",
    "                    color='w', size=25, backgroundcolor=\"none\")\n",
    "\n",
    "            # Mask\n",
    "            mask = masks[:, :, i]\n",
    "            if show_mask:\n",
    "                masked_image = apply_mask(masked_image, mask,color)\n",
    "                \n",
    "            masked_image_ori = crop_mask_from_original_im(image_, mask)\n",
    "            # find the brightest pixel\n",
    "            position_int_max = np.unravel_index(masked_image_ori.argmax(),masked_image_ori.shape)\n",
    "            print('The brightest pixel is {:.3f} at position {}'.format(masked_image_ori[position_int_max],position_int_max))\n",
    "            \n",
    "            position_dm = position_int_max[0];position_time=position_int_max[1]\n",
    "            calculated_dm = (true_DM*256)/(2*position_dm)\n",
    "            #calculated_dm = ((2*true_DM)/256)*position_dm\n",
    "\n",
    "            uncertainty_dm = ((2*true_DM)/256)*2\n",
    "            calculated_tim = tstart + (tsamp*position_time)\n",
    "            print('The true DM is {:.3f}'.format(true_DM))\n",
    "            print('The calculated DM detected from prediction is {:.3f} at time {:.3f}'.format(calculated_dm,calculated_tim))    \n",
    "                \n",
    "            # Mask Polygon\n",
    "            # Pad to ensure proper polygons for masks that touch image edges.\n",
    "            padded_mask = np.zeros(\n",
    "                (mask.shape[0] + 2, mask.shape[1] + 2), dtype=np.uint8)\n",
    "            padded_mask[1:-1, 1:-1] = mask\n",
    "            contours = find_contours(padded_mask, 0.5)\n",
    "            for verts in contours:\n",
    "                # Subtract the padding and flip (y, x) to (x, y)\n",
    "                verts = np.fliplr(verts) - 1\n",
    "                p = Polygon(verts, facecolor=\"none\", edgecolor=color)\n",
    "                ax.add_patch(p)\n",
    "                \n",
    "        results = pd.DataFrame()\n",
    "        results['filename']    = np.array(filename).reshape(1,)\n",
    "        results['y_true']      = 1\n",
    "        results['y_predict']   = class_names[class_id]\n",
    "        results['probability_FRB'] = scores[0]\n",
    "        results['true_DM'] = true_DM\n",
    "        results['calculated_DM'] = calculated_dm\n",
    "        results['err_calculated_DM'] = uncertainty_dm\n",
    "        final_table                     = final_table.append(results)\n",
    "\n",
    "                \n",
    "        ax.imshow(masked_image)\n",
    "        ax.text(270,10, 'Detected Class:'+str(class_names[class_id]), fontsize=25)\n",
    "        ax.text(270,20, 'Probability FRB: {:.3f}'.format(scores[0]), fontsize=25)\n",
    "        ax.text(270,30, 'Calculated DM: {:.3f} ± {:.3f}'.format(calculated_dm, uncertainty_dm), fontsize=25)\n",
    "        ax.text(270,40, 'Calculated time: {:.3f}'.format(calculated_tim), fontsize=25)\n",
    "        ax.text(270,50, 'Brightest Pixel: {:.3f}'.format(masked_image_ori[position_int_max]), fontsize=25)\n",
    "        ax.text(270,60, 'Brightest Pixel at position:'+str(position_int_max), fontsize=25)\n",
    "        plt.savefig('./results/predicted_images/'+filename[:-3]+'.jpg',bbox_inches='tight',pas_inches=0.1)\n",
    "final_table.to_csv('./results/prediction_test_set.csv',index=None)       "
   ]
  },
  {
   "cell_type": "markdown",
   "metadata": {},
   "source": [
    "# Make videos"
   ]
  },
  {
   "cell_type": "code",
   "execution_count": null,
   "metadata": {
    "collapsed": true
   },
   "outputs": [],
   "source": [
    "\n",
    "img_array = []\n",
    "for filename in glob.glob('./results/predicted_images/*.jpg'):\n",
    "    img = cv2.imread(filename)\n",
    "    height, width, layers = img.shape\n",
    "    size = (width,height)\n",
    "    img_array.append(img)\n",
    "\n",
    "out = cv2.VideoWriter('./results/prediction.mp4',cv2.VideoWriter_fourcc(*'MP4V'), 1, size)\n",
    " \n",
    "for i in range(len(img_array)):\n",
    "    out.write(img_array[i])\n",
    "out.release()"
   ]
  },
  {
   "cell_type": "code",
   "execution_count": null,
   "metadata": {
    "collapsed": true
   },
   "outputs": [],
   "source": []
  },
  {
   "cell_type": "code",
   "execution_count": null,
   "metadata": {
    "collapsed": true
   },
   "outputs": [],
   "source": []
  },
  {
   "cell_type": "code",
   "execution_count": null,
   "metadata": {
    "collapsed": true
   },
   "outputs": [],
   "source": []
  }
 ],
 "metadata": {
  "kernelspec": {
   "display_name": "Python 3",
   "language": "python",
   "name": "python3"
  },
  "language_info": {
   "codemirror_mode": {
    "name": "ipython",
    "version": 3
   },
   "file_extension": ".py",
   "mimetype": "text/x-python",
   "name": "python",
   "nbconvert_exporter": "python",
   "pygments_lexer": "ipython3",
   "version": "3.5.3"
  }
 },
 "nbformat": 4,
 "nbformat_minor": 2
}
